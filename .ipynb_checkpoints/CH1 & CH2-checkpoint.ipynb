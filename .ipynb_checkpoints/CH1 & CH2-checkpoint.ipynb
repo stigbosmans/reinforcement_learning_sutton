{
 "cells": [
  {
   "cell_type": "code",
   "execution_count": 158,
   "metadata": {},
   "outputs": [],
   "source": [
    "import numpy as np"
   ]
  },
  {
   "cell_type": "markdown",
   "metadata": {},
   "source": [
    "# Sample Average - Epsilon greedy"
   ]
  },
  {
   "cell_type": "code",
   "execution_count": 152,
   "metadata": {},
   "outputs": [],
   "source": [
    "action_reward_std = 2 #Standard deviation of reward distribution\n",
    "n_actions = 10\n",
    "action_reward_means = [0, -1, 1.5, 0.5, -1.5, 0, -1, 1 , -0.75, 1.25] #Defines mean of reward distribution per action\n",
    "reward_per_action_log = [[] for i in range(n_actions)] #Stores reward for each action\n",
    "all_reward_log = [] #Stores all rewards, useful to track average reward per step\n",
    "\n",
    "def sample_reward(action, num_samples=1):\n",
    "    reward = np.random.normal(action_reward_means[action], action_reward_std, num_samples)[0]\n",
    "    reward_per_action_log[action].append(reward)\n",
    "    all_reward_log.append(reward)\n",
    "    return reward"
   ]
  },
  {
   "cell_type": "code",
   "execution_count": 153,
   "metadata": {},
   "outputs": [],
   "source": [
    "Q = np.zeros(n_actions)\n",
    "action_space = [i for i in range(n_actions)]\n",
    "\n",
    "def greedy_action_selection():\n",
    "    a = np.argmax(Q)\n",
    "    # Check if there are others actions with max value\n",
    "    if Q[Q == Q[a]].size > 1:\n",
    "        action_options = np.argwhere(Q == Q[a]).reshape(-1)\n",
    "        action = np.random.choice(action_options)\n",
    "        sample_reward(action)\n",
    "    else:\n",
    "        sample_reward(a)\n",
    "\n",
    "def update_q_values():\n",
    "    idx = 0\n",
    "    for action_reward_log in reward_per_action_log:\n",
    "        if len(action_reward_log) > 0:\n",
    "            Q[idx] = np.mean(np.array(action_reward_log))\n",
    "        idx += 1"
   ]
  },
  {
   "cell_type": "code",
   "execution_count": 159,
   "metadata": {},
   "outputs": [],
   "source": [
    "average_reward_per_step = []\n",
    "num_steps = 2000\n",
    "\n",
    "def run(epsilon):\n",
    "    #Reset all logs\n",
    "    global average_reward_per_step, all_reward_log, Q, reward_per_action_log\n",
    "    average_reward_per_step = []\n",
    "    all_reward_log = []\n",
    "    Q = np.zeros(n_actions)\n",
    "    reward_per_action_log = [[] for i in range(n_actions)]\n",
    "    \n",
    "    for i in range(num_steps):\n",
    "        eps_value = np.random.random()\n",
    "        if eps_value > epsilon:\n",
    "            greedy_action_selection() #Exploit\n",
    "        else:\n",
    "            action = np.random.choice(action_space) #Explore\n",
    "            sample_reward(action)\n",
    "\n",
    "        #Todo: Running average is much more efficient\n",
    "        avg = np.mean(np.array(all_reward_log))\n",
    "        average_reward_per_step.append(avg)\n",
    "        update_q_values()\n",
    "    return average_reward_per_step\n",
    "\n",
    "epsilon_001 = run(0.01)\n",
    "epsilon_0 = run(0)\n",
    "epsilon_01 = run(0.1)\n"
   ]
  },
  {
   "cell_type": "code",
   "execution_count": 160,
   "metadata": {},
   "outputs": [
    {
     "name": "stdout",
     "output_type": "stream",
     "text": [
      "2000\n"
     ]
    },
    {
     "data": {
      "image/png": "[encoded data removed]",
      "text/plain": [
       "<Figure size 432x288 with 1 Axes>"
      ]
     },
     "metadata": {},
     "output_type": "display_data"
    }
   ],
   "source": [
    "import matplotlib.pyplot as plt\n",
    "print(len(epsilon_1))\n",
    "plt.plot(range(num_steps), epsilon_01, 'b', label='epsilon 0.1')\n",
    "plt.plot(range(num_steps), epsilon_001, 'r', label='epsilon 0.01')\n",
    "plt.plot(range(num_steps), epsilon_0, 'g', label='epsilon 0')\n",
    "plt.legend()\n",
    "plt.show()"
   ]
  },
  {
   "cell_type": "code",
   "execution_count": 161,
   "metadata": {},
   "outputs": [
    {
     "data": {
      "text/plain": [
       "array([ 0.1252177 , -1.38401347,  1.4755122 ,  0.36984604, -0.86583293,\n",
       "       -0.54874159, -0.60655187,  0.33399068, -1.25217697,  1.00324506])"
      ]
     },
     "execution_count": 161,
     "metadata": {},
     "output_type": "execute_result"
    }
   ],
   "source": [
    "Q"
   ]
  },
  {
   "cell_type": "code",
   "execution_count": 162,
   "metadata": {},
   "outputs": [
    {
     "data": {
      "text/plain": [
       "2"
      ]
     },
     "execution_count": 162,
     "metadata": {},
     "output_type": "execute_result"
    }
   ],
   "source": [
    "np.argmax(Q)"
   ]
  },
  {
   "cell_type": "code",
   "execution_count": null,
   "metadata": {},
   "outputs": [],
   "source": []
  }
 ],
 "metadata": {
  "kernelspec": {
   "display_name": "Python 3",
   "language": "python",
   "name": "python3"
  },
  "language_info": {
   "codemirror_mode": {
    "name": "ipython",
    "version": 3
   },
   "file_extension": ".py",
   "mimetype": "text/x-python",
   "name": "python",
   "nbconvert_exporter": "python",
   "pygments_lexer": "ipython3",
   "version": "3.6.5"
  }
 },
 "nbformat": 4,
 "nbformat_minor": 2
}
